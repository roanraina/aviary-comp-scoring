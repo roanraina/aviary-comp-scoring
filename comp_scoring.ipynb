{
 "cells": [
  {
   "attachments": {},
   "cell_type": "markdown",
   "metadata": {},
   "source": [
    "# Aviary Competition Scoreing Procedure 2023"
   ]
  },
  {
   "attachments": {},
   "cell_type": "markdown",
   "metadata": {},
   "source": [
    "## Imports\n",
    "\n",
    "Make sure to install pandas in your python enviroment"
   ]
  },
  {
   "cell_type": "code",
   "execution_count": null,
   "metadata": {},
   "outputs": [],
   "source": [
    "import pandas as pd"
   ]
  },
  {
   "attachments": {},
   "cell_type": "markdown",
   "metadata": {},
   "source": [
    "# Import data"
   ]
  },
  {
   "cell_type": "code",
   "execution_count": null,
   "metadata": {},
   "outputs": [],
   "source": [
    "sends = pd.read_csv('sample_data.csv')"
   ]
  },
  {
   "cell_type": "code",
   "execution_count": null,
   "metadata": {},
   "outputs": [],
   "source": [
    "sends = sends.rename(columns={'Email Address' : 'email',\n",
    "                              'Full Name' : 'name',\n",
    "                              'Category' : 'category',\n",
    "                              'Anchor?' : 'anchor',\n",
    "                              'Colour?': 'colour',\n",
    "                              'Number of Attempts' : 'num_attempts',\n",
    "                              'Belayer (Full Name)' : 'belayer',\n",
    "                              'Witness #2 (Full Name)' : 'witness'})\n"
   ]
  },
  {
   "cell_type": "code",
   "execution_count": null,
   "metadata": {},
   "outputs": [],
   "source": [
    "sends.head()"
   ]
  },
  {
   "attachments": {},
   "cell_type": "markdown",
   "metadata": {},
   "source": [
    "## Data Cleaning\n",
    "\n",
    "The scoring section assumes:\n",
    "1. there are no duplicate entries (ie the same route is submitted twice)\n",
    "2. people have entered the same name for all their entries (ie a individual has submitted all their entires under the same name)\n",
    "3. people dont have the same name\n",
    "\n",
    "We should probably make sure this is true.\n",
    "\n",
    "The challenge would be that solving these errors would likely have to be done manually."
   ]
  },
  {
   "cell_type": "code",
   "execution_count": null,
   "metadata": {},
   "outputs": [],
   "source": [
    "# all strings to lower case\n",
    "sends['email'] = sends['email'].str.lower()\n",
    "sends['name'] = sends['name'].str.lower()\n",
    "sends['belayer'] = sends['belayer'].str.lower()\n",
    "sends['witness'] = sends['witness'].str.lower()"
   ]
  },
  {
   "cell_type": "code",
   "execution_count": null,
   "metadata": {},
   "outputs": [],
   "source": [
    "# 1 - Identify anchor/colour duplicates, will have to confirm manually which ones to keep/drop\n",
    "\n",
    "sends[sends.duplicated(subset=['name', 'email', 'anchor', 'colour'], keep=False)]"
   ]
  },
  {
   "cell_type": "code",
   "execution_count": null,
   "metadata": {},
   "outputs": [],
   "source": [
    "# 2/3 - check list of names to see if any name variations can be manually identified\n",
    "sends[['name','email']].drop_duplicates().sort_values(by=['name', 'email'])"
   ]
  },
  {
   "cell_type": "code",
   "execution_count": null,
   "metadata": {},
   "outputs": [],
   "source": [
    "# emails with more than one name would give us hints to if someone mistyped their name\n",
    "sends[['name','email']].groupby(by='email').nunique()"
   ]
  },
  {
   "cell_type": "code",
   "execution_count": null,
   "metadata": {},
   "outputs": [],
   "source": [
    "# names with more than one email would give us hints to if two people share the same name (or someone mistyped their email)\n",
    "sends[['name','email']].groupby(by='name').nunique()"
   ]
  },
  {
   "attachments": {},
   "cell_type": "markdown",
   "metadata": {},
   "source": [
    "We can now proceed with these assumptions"
   ]
  },
  {
   "attachments": {},
   "cell_type": "markdown",
   "metadata": {},
   "source": [
    "## Bind Points to Sends"
   ]
  },
  {
   "attachments": {},
   "cell_type": "markdown",
   "metadata": {},
   "source": [
    "Points per route"
   ]
  },
  {
   "cell_type": "code",
   "execution_count": null,
   "metadata": {},
   "outputs": [],
   "source": [
    "points_per_route = pd.read_csv('points_per_route.csv')\n",
    "points_per_route.sort_values(by=['anchor', 'colour']).head()"
   ]
  },
  {
   "attachments": {},
   "cell_type": "markdown",
   "metadata": {},
   "source": [
    "Points for number of attemps"
   ]
  },
  {
   "cell_type": "code",
   "execution_count": null,
   "metadata": {},
   "outputs": [],
   "source": [
    "points_per_attempt = pd.read_csv('points_per_attempt.csv')\n",
    "points_per_attempt.head()"
   ]
  },
  {
   "attachments": {},
   "cell_type": "markdown",
   "metadata": {},
   "source": [
    "Bind points (by route) to sends"
   ]
  },
  {
   "cell_type": "code",
   "execution_count": null,
   "metadata": {},
   "outputs": [],
   "source": [
    "sends_points = pd.merge(sends, points_per_route, on=['anchor', 'colour'], how='left')"
   ]
  },
  {
   "cell_type": "code",
   "execution_count": null,
   "metadata": {},
   "outputs": [],
   "source": [
    "sends_points = pd.merge(sends_points, points_per_attempt, on='num_attempts', how='left')"
   ]
  },
  {
   "cell_type": "code",
   "execution_count": null,
   "metadata": {},
   "outputs": [],
   "source": [
    "sends_points.head()"
   ]
  },
  {
   "attachments": {},
   "cell_type": "markdown",
   "metadata": {},
   "source": [
    "### Caluclate total points"
   ]
  },
  {
   "cell_type": "code",
   "execution_count": null,
   "metadata": {},
   "outputs": [],
   "source": [
    "sends_points['points'] = sends_points['route_points'] * sends_points['attempts_points']\n",
    "sends_points.head()"
   ]
  },
  {
   "attachments": {},
   "cell_type": "markdown",
   "metadata": {},
   "source": [
    "# Scores"
   ]
  },
  {
   "attachments": {},
   "cell_type": "markdown",
   "metadata": {},
   "source": [
    "### Recreational - men"
   ]
  },
  {
   "cell_type": "code",
   "execution_count": null,
   "metadata": {},
   "outputs": [],
   "source": [
    "# subset the points df\n",
    "rec_men = sends_points.loc[sends_points['category'] == 'Recreational - men']\n",
    "\n",
    "# group sends by individual and sum points\n",
    "rec_men[['name','points']].groupby(by=['name']).sum().sort_values(by='points', ascending=False)"
   ]
  },
  {
   "attachments": {},
   "cell_type": "markdown",
   "metadata": {},
   "source": [
    "### Open - men"
   ]
  },
  {
   "cell_type": "code",
   "execution_count": null,
   "metadata": {},
   "outputs": [],
   "source": [
    "# subset the points df\n",
    "open_men = sends_points.loc[sends_points['category'] == 'Open - men']\n",
    "\n",
    "# group sends by individual and sum points\n",
    "open_men[['name','points']].groupby(by=['name']).sum().sort_values(by='points', ascending=False)"
   ]
  },
  {
   "attachments": {},
   "cell_type": "markdown",
   "metadata": {},
   "source": [
    "### Recreational - anyone but men"
   ]
  },
  {
   "cell_type": "code",
   "execution_count": null,
   "metadata": {},
   "outputs": [],
   "source": [
    "# subset the points df\n",
    "rec_abm = sends_points.loc[sends_points['category'] == 'Recreational - anyone but men']\n",
    "\n",
    "# group sends by individual and sum points\n",
    "rec_abm[['name','points']].groupby(by=['name']).sum().sort_values(by='points', ascending=False)"
   ]
  },
  {
   "attachments": {},
   "cell_type": "markdown",
   "metadata": {},
   "source": [
    "### Open - anyone but men"
   ]
  },
  {
   "cell_type": "code",
   "execution_count": null,
   "metadata": {},
   "outputs": [],
   "source": [
    "# subset the points df\n",
    "open_abm = sends_points.loc[sends_points['category'] == 'Open - anyone but men']\n",
    "\n",
    "# group sends by individual and sum points\n",
    "open_abm[['name','points']].groupby(by=['name']).sum().sort_values(by='points', ascending=False)"
   ]
  },
  {
   "cell_type": "markdown",
   "metadata": {},
   "source": [
    "### Top Belayer"
   ]
  },
  {
   "cell_type": "code",
   "execution_count": null,
   "metadata": {},
   "outputs": [],
   "source": [
    "sends_points['belayer'].value_counts()"
   ]
  },
  {
   "attachments": {},
   "cell_type": "markdown",
   "metadata": {},
   "source": [
    "### Most (total) attempts\n",
    "\n",
    "on sent routes"
   ]
  },
  {
   "cell_type": "code",
   "execution_count": null,
   "metadata": {},
   "outputs": [],
   "source": [
    "sends_points[['name', 'attempts']].groupby(by='name').sum().sort_values(by='attempts', ascending=False).head(n=5)"
   ]
  },
  {
   "attachments": {},
   "cell_type": "markdown",
   "metadata": {},
   "source": [
    "### Most routes climbed\n",
    "\n",
    "Just counts the number of submission by an individual"
   ]
  },
  {
   "cell_type": "code",
   "execution_count": null,
   "metadata": {},
   "outputs": [],
   "source": [
    "sends_points.groupby(by=['name']).size().sort_values(ascending=False)"
   ]
  }
 ],
 "metadata": {
  "kernelspec": {
   "display_name": "base",
   "language": "python",
   "name": "python3"
  },
  "language_info": {
   "codemirror_mode": {
    "name": "ipython",
    "version": 3
   },
   "file_extension": ".py",
   "mimetype": "text/x-python",
   "name": "python",
   "nbconvert_exporter": "python",
   "pygments_lexer": "ipython3",
   "version": "3.10.6"
  },
  "orig_nbformat": 4,
  "vscode": {
   "interpreter": {
    "hash": "3d597f4c481aa0f25dceb95d2a0067e73c0966dcbd003d741d821a7208527ecf"
   }
  }
 },
 "nbformat": 4,
 "nbformat_minor": 2
}
