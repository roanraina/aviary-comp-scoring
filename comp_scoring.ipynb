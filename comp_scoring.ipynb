{
 "cells": [
  {
   "attachments": {},
   "cell_type": "markdown",
   "metadata": {},
   "source": [
    "# Aviary Competition Scoring Procedure 2023"
   ]
  },
  {
   "attachments": {},
   "cell_type": "markdown",
   "metadata": {},
   "source": [
    "## Imports\n",
    "\n",
    "Make sure to install pandas in your python enviroment"
   ]
  },
  {
   "cell_type": "code",
   "execution_count": null,
   "metadata": {},
   "outputs": [],
   "source": [
    "import pandas as pd"
   ]
  },
  {
   "attachments": {},
   "cell_type": "markdown",
   "metadata": {},
   "source": [
    "# Import data"
   ]
  },
  {
   "cell_type": "code",
   "execution_count": null,
   "metadata": {},
   "outputs": [],
   "source": [
    "sends = pd.read_csv('sample_data.csv')"
   ]
  },
  {
   "cell_type": "code",
   "execution_count": null,
   "metadata": {},
   "outputs": [],
   "source": [
    "sends = sends.rename(columns={'Email Address' : 'email',\n",
    "                              'Full Name' : 'name',\n",
    "                              'Category' : 'category',\n",
    "                              'Anchor?' : 'anchor',\n",
    "                              'Colour?': 'colour',\n",
    "                              'Number of Attempts' : 'num_attempts',\n",
    "                              'Belayer (Full Name)' : 'belayer',\n",
    "                              'Witness #2 (Full Name)' : 'witness'})\n"
   ]
  },
  {
   "cell_type": "code",
   "execution_count": null,
   "metadata": {},
   "outputs": [],
   "source": [
    "sends.head()"
   ]
  },
  {
   "attachments": {},
   "cell_type": "markdown",
   "metadata": {},
   "source": [
    "## Data Cleaning"
   ]
  },
  {
   "cell_type": "code",
   "execution_count": null,
   "metadata": {},
   "outputs": [],
   "source": [
    "# all strings to lower case and strip of leading and lagging spaces\n",
    "sends['email'] = sends['email'].str.lower().str.strip()\n",
    "sends['name'] = sends['name'].str.lower().str.strip()\n",
    "sends['belayer'] = sends['belayer'].str.lower().str.strip()\n",
    "sends['witness'] = sends['witness'].str.lower().str.strip()"
   ]
  },
  {
   "cell_type": "code",
   "execution_count": null,
   "metadata": {},
   "outputs": [],
   "source": [
    "# Fix route mismatch and commonly entered wrong routes\n",
    "sends.loc[sends['colour'] == 'Hand Crack', 'anchor'] = 2  # The hand crack is on anchor 2\n",
    "\n",
    "sends.loc[(sends['anchor'] == 1) & (sends['colour'] == 'Red'), 'anchor'] = 2 # 1 Red -> 2 Red\n",
    "\n",
    "sends.loc[(sends['anchor'] == 5) & (sends['colour'] == 'Green'), 'colour'] = 'Lime' # 5 Green -> 5 Lime\n",
    "\n",
    "sends.loc[(sends['anchor'] == 11) & (sends['colour'] == 'Pink'), 'anchor'] = 12 # 11 Pink -> 12 Pink\n"
   ]
  },
  {
   "cell_type": "markdown",
   "metadata": {},
   "source": [
    "### Fill in missing values for name and category\n",
    "We made the name and category questions optional because user feedback indicated there were too many questions to fill out for each response. \n",
    "For responses without a name and category, we expect there will exist one repsone using the same email to contain a name and category and will use that value for all other responses without a name and category. \n"
   ]
  },
  {
   "cell_type": "code",
   "execution_count": null,
   "metadata": {},
   "outputs": [],
   "source": [
    "## There must be a better way to do this 🤷 \n",
    "\n",
    "sends_filled = pd.concat([sends['email'], sends.groupby('email').fillna(method='ffill')], axis=1)\n",
    "sends_filled = pd.concat([sends['email'], sends_filled.groupby('email').fillna(method='bfill')], axis=1)"
   ]
  },
  {
   "cell_type": "markdown",
   "metadata": {},
   "source": [
    "## Check Assumptions\n",
    "The scoring section assumes:\n",
    "1. there are no duplicate entries (ie the same route is submitted twice)\n",
    "2. people have entered the same name for all their entries (check : one name per email address)\n",
    "3. people dont have the same name or used a different email address (check : one email address per name)\n",
    "4. people only entered one category\n",
    "\n",
    "We should probably make sure this is true.\n",
    "\n",
    "The challenge would be that solving these errors would likely have to be done manually."
   ]
  },
  {
   "cell_type": "code",
   "execution_count": null,
   "metadata": {},
   "outputs": [],
   "source": [
    "# Assumption 1\n",
    "# Identify anchor/colour duplicates\n",
    "\n",
    "sends_filled[sends_filled.duplicated(subset=['name', 'email', 'anchor', 'colour'], keep=False)]\n",
    "\n",
    "# The following will remove the duplicates and keep the first instance \n",
    "sends_filled = sends_filled.drop_duplicates(subset=['name', 'email', 'anchor', 'colour'], keep='first')\n",
    "sends_filled[sends_filled.duplicated(subset=['name', 'email', 'anchor', 'colour'], keep=False)]"
   ]
  },
  {
   "cell_type": "code",
   "execution_count": null,
   "metadata": {},
   "outputs": [],
   "source": [
    "# Assumption 2\n",
    "# Emails with more than one name would give us hints to if someone mistyped their name\n",
    "# Emails with zero names would suggest they mistyped their email address or failed to provide a name\n",
    "email_counts = sends_filled[['name','email']].groupby(by='email').nunique()\n",
    "email_counts[email_counts['name'] != 1]"
   ]
  },
  {
   "cell_type": "code",
   "execution_count": null,
   "metadata": {},
   "outputs": [],
   "source": [
    "# Assumption 3\n",
    "# Names with more than one email would give us hints to if two people share the same name (or someone mistyped their email)\n",
    "name_counts = sends_filled[['name','email']].groupby(by='name').nunique()\n",
    "name_counts[name_counts['email'] != 1]"
   ]
  },
  {
   "cell_type": "code",
   "execution_count": null,
   "metadata": {},
   "outputs": [],
   "source": [
    "# Assuption 4\n",
    "# Check to make sure each person is only entered one category\n",
    "name_counts = sends_filled[['name','category']].groupby(by='name').nunique()\n",
    "name_counts[name_counts['category'] != 1]"
   ]
  },
  {
   "cell_type": "code",
   "execution_count": null,
   "metadata": {},
   "outputs": [],
   "source": [
    "# check list of names/emails to see if any problems can be manually identified\n",
    "sends_filled[['name','email']].drop_duplicates().sort_values(by=['name', 'email'])"
   ]
  },
  {
   "attachments": {},
   "cell_type": "markdown",
   "metadata": {},
   "source": [
    "We can now proceed with these assumptions"
   ]
  },
  {
   "attachments": {},
   "cell_type": "markdown",
   "metadata": {},
   "source": [
    "## Determine Points per Send"
   ]
  },
  {
   "cell_type": "markdown",
   "metadata": {},
   "source": [
    "### Bind Points to Sends"
   ]
  },
  {
   "attachments": {},
   "cell_type": "markdown",
   "metadata": {},
   "source": [
    "Points per route"
   ]
  },
  {
   "cell_type": "code",
   "execution_count": null,
   "metadata": {},
   "outputs": [],
   "source": [
    "points_per_route = pd.read_csv('points_per_route.csv')\n",
    "points_per_route.head()"
   ]
  },
  {
   "attachments": {},
   "cell_type": "markdown",
   "metadata": {},
   "source": [
    "Points for number of attemps"
   ]
  },
  {
   "cell_type": "code",
   "execution_count": null,
   "metadata": {},
   "outputs": [],
   "source": [
    "points_per_attempt = pd.read_csv('points_per_attempt.csv')\n",
    "points_per_attempt.head()"
   ]
  },
  {
   "attachments": {},
   "cell_type": "markdown",
   "metadata": {},
   "source": [
    "Bind points (by route) to sends"
   ]
  },
  {
   "cell_type": "code",
   "execution_count": null,
   "metadata": {},
   "outputs": [],
   "source": [
    "sends_points = pd.merge(sends_filled, points_per_route, on=['anchor', 'colour'], how='left')"
   ]
  },
  {
   "cell_type": "code",
   "execution_count": null,
   "metadata": {},
   "outputs": [],
   "source": [
    "sends_points = pd.merge(sends_points, points_per_attempt, on='num_attempts', how='left')"
   ]
  },
  {
   "cell_type": "code",
   "execution_count": null,
   "metadata": {},
   "outputs": [],
   "source": [
    "sends_points.head()"
   ]
  },
  {
   "cell_type": "markdown",
   "metadata": {},
   "source": [
    "### Check"
   ]
  },
  {
   "cell_type": "code",
   "execution_count": null,
   "metadata": {},
   "outputs": [],
   "source": [
    "# Check to see if anyone claimed to climb a route I didnt know about \n",
    "sends_points[sends_points['route_points'].isna()]"
   ]
  },
  {
   "attachments": {},
   "cell_type": "markdown",
   "metadata": {},
   "source": [
    "### Caluclate total points per send"
   ]
  },
  {
   "cell_type": "code",
   "execution_count": null,
   "metadata": {},
   "outputs": [],
   "source": [
    "sends_points['points'] = sends_points['route_points'] * sends_points['attempts_points']\n",
    "sends_points.head()"
   ]
  },
  {
   "attachments": {},
   "cell_type": "markdown",
   "metadata": {},
   "source": [
    "# Scores per Climber per Category"
   ]
  },
  {
   "attachments": {},
   "cell_type": "markdown",
   "metadata": {},
   "source": [
    "#### Recreational - men"
   ]
  },
  {
   "cell_type": "code",
   "execution_count": null,
   "metadata": {},
   "outputs": [],
   "source": [
    "# subset the points df\n",
    "rec_men = sends_points.loc[sends_points['category'] == 'Recreational - men']\n",
    "\n",
    "# group sends by individual and sum points\n",
    "rec_men[['name','points']].groupby(by=['name']).sum().sort_values(by='points', ascending=False)"
   ]
  },
  {
   "attachments": {},
   "cell_type": "markdown",
   "metadata": {},
   "source": [
    "#### Open - men"
   ]
  },
  {
   "cell_type": "code",
   "execution_count": null,
   "metadata": {},
   "outputs": [],
   "source": [
    "# subset the points df\n",
    "open_men = sends_points.loc[sends_points['category'] == 'Open - men']\n",
    "\n",
    "# group sends by individual and sum points\n",
    "open_men[['name','points']].groupby(by=['name']).sum().sort_values(by='points', ascending=False)"
   ]
  },
  {
   "attachments": {},
   "cell_type": "markdown",
   "metadata": {},
   "source": [
    "#### Recreational - anyone but men"
   ]
  },
  {
   "cell_type": "code",
   "execution_count": null,
   "metadata": {},
   "outputs": [],
   "source": [
    "# subset the points df\n",
    "rec_abm = sends_points.loc[sends_points['category'] == 'Recreational - anyone but men']\n",
    "\n",
    "# group sends by individual and sum points\n",
    "rec_abm[['name','points']].groupby(by=['name']).sum().sort_values(by='points', ascending=False)"
   ]
  },
  {
   "attachments": {},
   "cell_type": "markdown",
   "metadata": {},
   "source": [
    "#### Open - anyone but men"
   ]
  },
  {
   "cell_type": "code",
   "execution_count": null,
   "metadata": {},
   "outputs": [],
   "source": [
    "# subset the points df\n",
    "open_abm = sends_points.loc[sends_points['category'] == 'Open - anyone but men']\n",
    "\n",
    "# group sends by individual and sum points\n",
    "open_abm[['name','points']].groupby(by=['name']).sum().sort_values(by='points', ascending=False)"
   ]
  },
  {
   "attachments": {},
   "cell_type": "markdown",
   "metadata": {},
   "source": [
    "#### Top Belayer"
   ]
  },
  {
   "cell_type": "code",
   "execution_count": null,
   "metadata": {},
   "outputs": [],
   "source": [
    "sends_points['belayer'].value_counts()"
   ]
  },
  {
   "attachments": {},
   "cell_type": "markdown",
   "metadata": {},
   "source": [
    "#### Most (total) attempts\n",
    "\n",
    "on sent routes"
   ]
  },
  {
   "cell_type": "code",
   "execution_count": null,
   "metadata": {},
   "outputs": [],
   "source": [
    "sends_points[['name', 'attempts']].groupby(by='name').sum().sort_values(by='attempts', ascending=False).head(n=5)"
   ]
  },
  {
   "attachments": {},
   "cell_type": "markdown",
   "metadata": {},
   "source": [
    "#### Most routes climbed\n",
    "\n",
    "Just counts the number of submission by an individual"
   ]
  },
  {
   "cell_type": "code",
   "execution_count": null,
   "metadata": {},
   "outputs": [],
   "source": [
    "sends_points.groupby(by=['name']).size().sort_values(ascending=False)"
   ]
  },
  {
   "attachments": {},
   "cell_type": "markdown",
   "metadata": {},
   "source": [
    "## Send Status Update to Climbers\n",
    "\n",
    "It would be cool to send everyone an email letting them know what routes we have recorded, their score, and the score cutoff for 5th place in their category. \n",
    "\n",
    "The Aviary already uses sendgrid so we're going to use that here too."
   ]
  },
  {
   "attachments": {},
   "cell_type": "markdown",
   "metadata": {},
   "source": [
    "### Generate Emails \n",
    "\n",
    "First we need to make a data frame with what we want to email. "
   ]
  },
  {
   "cell_type": "code",
   "execution_count": null,
   "metadata": {},
   "outputs": [],
   "source": [
    "import sendgrid\n",
    "import os\n",
    "from sendgrid.helpers.mail import Mail, Email, To, Content"
   ]
  },
  {
   "cell_type": "code",
   "execution_count": null,
   "metadata": {},
   "outputs": [],
   "source": [
    "email_df = sends_points[['name','email','category','points']].groupby(by=['name','email','category']).sum().reset_index()\n",
    "\n",
    "# CHECK \n",
    "assert(len(email_df) == len(sends_points['name'].unique()))"
   ]
  },
  {
   "cell_type": "code",
   "execution_count": null,
   "metadata": {},
   "outputs": [],
   "source": [
    "# Make the content of the emails to send\n",
    "\n",
    "emails = {}\n",
    "\n",
    "for index, row in email_df.iterrows() :\n",
    "    string = f\"\"\"Hi {row['name'].title()}! <br>\n",
    "    <br>\n",
    "    We're super stoked you signed up for The Aviary's Let's Get Sendy Competition this year! <br>\n",
    "    There are just three weeks left before the <b> finals on Friday, March 31st </b> and incase you weren't excited enough, we've got a ton of prizes from our sponsors (The Hive, Climb On Squamish, Backcountry Brewing, Ground Up Climbing Centre and more) for both climbers and audience members. <br>\n",
    "    It's going to be a super fun event, so bring your friends - we hope to see you there! <br>\n",
    "    <br>\n",
    "    In the mean time, we wanted to let you know how you're doing so far. <br>\n",
    "    <br>\n",
    "    Your score is: {row['points']} <br>\n",
    "    You are signed up for \"{row['category']}\" <br>\n",
    "    <br>\n",
    "    Here is a list of the climbs we have recorded for you: <br>\n",
    "    \"\"\"\n",
    "    climber_sends = sends_points[sends_points['name'] == row['name']]\n",
    "    string += climber_sends[['Timestamp','anchor','colour','num_attempts','belayer','witness','route_points','attempts_points','points']].to_html(index = False)\n",
    "\n",
    "    string += \"\"\"Your score is just the sum of the points column. <br>\n",
    "    <br>\n",
    "    Be sure to record all your climbing before Wednesday, March 29th 2023 @ 6pm and don't forget we're putting up a ton of new climbs every week until then! <br> \n",
    "    If you have any questions, feel free to reach out to us at info@ubc-aviary.com or on Instagram @ubcaviary.<br>\n",
    "    <br>\n",
    "    Happy Climbing, <br>\n",
    "    The Aviary <br>\n",
    "    \"\"\"\n",
    "    \n",
    "    emails[row['email']] = string"
   ]
  },
  {
   "cell_type": "code",
   "execution_count": null,
   "metadata": {},
   "outputs": [],
   "source": [
    "# function to send all the emails \n",
    "def send_emails(emails):\n",
    "    sg = sendgrid.SendGridAPIClient(api_key=os.environ.get('SENDGRID_API_KEY'))\n",
    "\n",
    "    from_email = Email(\"info@ubc-aviary.com\")  # Change to your verified sender\n",
    "    subject = \"UBC Aviary - Let's Get Sendy! Scorecard Status\"\n",
    "\n",
    "    responses_status = {}\n",
    "    responses_headers = {}\n",
    "\n",
    "    for email, content in emails.items():\n",
    "\n",
    "        to_email = To(email)  # Change to your recipient\n",
    "        content = Content(\"text/html\", content)\n",
    "        mail = Mail(from_email, to_email, subject, content)\n",
    "\n",
    "        # Get a JSON-ready representation of the Mail object\n",
    "        mail_json = mail.get()\n",
    "\n",
    "        # Send an HTTP POST request to /mail/send\n",
    "        response = sg.client.mail.send.post(request_body=mail_json)\n",
    "        responses_status[email] = response.status_code\n",
    "        responses_headers[email] = response.headers\n",
    "    \n",
    "    return responses_status, responses_headers"
   ]
  },
  {
   "cell_type": "code",
   "execution_count": null,
   "metadata": {},
   "outputs": [],
   "source": [
    "# Wrapping the email sending function in a user input to avoid accidental runs\n",
    "\n",
    "expected_string = \"Yes, I want to send all the emails\" # the expected string that the user should enter\n",
    "user_string = input(\"Please enter the word 'Yes, I want to send all the emails' to send all the emails: \") # prompt the user for input\n",
    "\n",
    "if user_string == expected_string:\n",
    "    responses_status, responses_headers = send_emails(emails)\n",
    "else:\n",
    "    print(\"Incorrect. Emails were not sent\")"
   ]
  },
  {
   "cell_type": "code",
   "execution_count": null,
   "metadata": {},
   "outputs": [],
   "source": [
    "# check all emails were sent ok \n",
    "\n",
    "{key: value for key, value in responses_status.items() if value != 202}"
   ]
  }
 ],
 "metadata": {
  "kernelspec": {
   "display_name": "base",
   "language": "python",
   "name": "python3"
  },
  "language_info": {
   "codemirror_mode": {
    "name": "ipython",
    "version": 3
   },
   "file_extension": ".py",
   "mimetype": "text/x-python",
   "name": "python",
   "nbconvert_exporter": "python",
   "pygments_lexer": "ipython3",
   "version": "3.10.6"
  },
  "orig_nbformat": 4,
  "vscode": {
   "interpreter": {
    "hash": "3d597f4c481aa0f25dceb95d2a0067e73c0966dcbd003d741d821a7208527ecf"
   }
  }
 },
 "nbformat": 4,
 "nbformat_minor": 2
}
